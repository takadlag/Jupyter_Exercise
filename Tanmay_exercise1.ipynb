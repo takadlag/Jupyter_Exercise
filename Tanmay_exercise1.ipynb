{
  "metadata": {
    "kernelspec": {
      "name": "python",
      "display_name": "Python (Pyodide)",
      "language": "python"
    },
    "language_info": {
      "codemirror_mode": {
        "name": "python",
        "version": 3
      },
      "file_extension": ".py",
      "mimetype": "text/x-python",
      "name": "python",
      "nbconvert_exporter": "python",
      "pygments_lexer": "ipython3",
      "version": "3.8"
    }
  },
  "nbformat_minor": 4,
  "nbformat": 4,
  "cells": [
    {
      "cell_type": "markdown",
      "source": "# H1: Exercise 1",
      "metadata": {},
      "attachments": {}
    },
    {
      "cell_type": "markdown",
      "source": "# INTRODUCTION",
      "metadata": {}
    },
    {
      "cell_type": "markdown",
      "source": "### List of data science languages\n\n1. Python\n2. SQL (Structured Query Language)\n3. R\n4. Julia\n5. Scala",
      "metadata": {}
    },
    {
      "cell_type": "markdown",
      "source": "### Libraries for Data Science\n1. Pandas\n2. NumPy\n3. SciPy\n4. Scikit-learn\n5. TensorFlow\n6. Keras\n7. Matplotlib\n8. Seaborn",
      "metadata": {}
    },
    {
      "cell_type": "markdown",
      "source": "## Table of Data Science tools\n\n| Data Science Tools | Use |\n| -------------| ------ |\n| SQL | SQL is good for the kind of basic data analysis. |\n| Python | Python has some of the best libraries for data science. |\n| Tableau | Tableau is commonly used to do data prep and cleaning, connecting and exploring data. |",
      "metadata": {}
    },
    {
      "cell_type": "markdown",
      "source": "# Examples of Arithmetic Expressions\n\nIn this section, we will explore various arithmetic expressions, which are mathematical constructs that combine arithmetic terms with arithmetic operations. Arithmetic terms can be numbers, variables, or combinations of both, such as \\( x \\), \\( x^2 \\), or \\( xy \\). \n\nThe operations used in these expressions include addition, subtraction, multiplication, and division.\n\nHere are some examples to illustrate different types of arithmetic expressions:\n\n\\(9 + 5 20 − 1 45 + 7 − 13\\)\n\n\\(9 + 5 = 14 20 − 1 = 19 45 + 7 − 13 = 39\\)\n\n\\(n + 4 10 x − 3 y 115 a + 0.5 b − 3 c − 310\\)",
      "metadata": {}
    },
    {
      "cell_type": "code",
      "source": "# Defining the numbers to be used in the operations\na = 5\nb = 3\nc = 2\n\n# Performing multiplication\nmultiplication_result = a * b\n\n# Performing addition\naddition_result = a + b + c\n\n# Displaying the results\nmultiplication_result, addition_result\n",
      "metadata": {
        "trusted": true
      },
      "outputs": [
        {
          "execution_count": 4,
          "output_type": "execute_result",
          "data": {
            "text/plain": "(15, 10)"
          },
          "metadata": {}
        }
      ],
      "execution_count": 4
    },
    {
      "cell_type": "code",
      "source": "# Defining the number of minutes\nminutes = 120\n\n# Converting minutes to hours\nhours = minutes / 60\n\n# Displaying the result\nhours",
      "metadata": {
        "trusted": true
      },
      "outputs": [
        {
          "execution_count": 6,
          "output_type": "execute_result",
          "data": {
            "text/plain": "2.0"
          },
          "metadata": {}
        }
      ],
      "execution_count": 6
    },
    {
      "cell_type": "markdown",
      "source": "# Objectives\n\nIn this notebook, we aim to achieve the following objectives:\n\n* Understand the concept of arithmetic expressions and their components.\n* Explore examples of arithmetic expressions involving different operations.\n* Implement code to perform basic arithmetic operations such as multiplication and addition.\n* Convert time units, specifically from minutes to hours, using Python code.\n",
      "metadata": {}
    },
    {
      "cell_type": "markdown",
      "source": "# Author\n\nThis notebook was created by ***Tanmay Kadlag.***",
      "metadata": {}
    },
    {
      "cell_type": "code",
      "source": "",
      "metadata": {
        "trusted": true
      },
      "outputs": [],
      "execution_count": null
    }
  ]
}